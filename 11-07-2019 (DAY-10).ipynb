{
 "cells": [
  {
   "cell_type": "markdown",
   "metadata": {},
   "source": [
    "### STANDARD LIBRARIES\n",
    "* File i/o\n",
    "* Regular Expression \n",
    "* Date Time\n",
    "* Math(Numerical and Mathematical)"
   ]
  },
  {
   "cell_type": "markdown",
   "metadata": {},
   "source": [
    "### File Handling in Python\n",
    "- File - Document containing information resides on the permanent storage\n",
    "- Different types of files - txt,doc,pdf etc \n",
    "- Input - Keyboard\n",
    "- Output - File\n",
    "### Modes of the File I/O\n",
    "- 'w' -- This mode is used to file writting\n",
    "      -- If the file is not present first it creates the file and write some data to it\n",
    "      -- If the file is already present then it will rewrite the previous"
   ]
  },
  {
   "cell_type": "code",
   "execution_count": 5,
   "metadata": {},
   "outputs": [
    {
     "name": "stdout",
     "output_type": "stream",
     "text": [
      "File is created and data has written\n"
     ]
    }
   ],
   "source": [
    "# Function to create a file and write to the file\n",
    "def createfile(filename):\n",
    "    f = open(filename,'w')\n",
    "    for i in range(10):\n",
    "        f.write('This is %d Line ' % i)\n",
    "    print(\"File is created and data has written\")\n",
    "    return\n",
    "createfile('file1.txt')"
   ]
  },
  {
   "cell_type": "code",
   "execution_count": 3,
   "metadata": {},
   "outputs": [
    {
     "name": "stdout",
     "output_type": "stream",
     "text": [
      " Volume in drive C has no label.\n",
      " Volume Serial Number is 9457-6C5F\n",
      "\n",
      " Directory of C:\\Users\\sys59\n",
      "\n",
      "11-07-2019  09:30    <DIR>          .\n",
      "11-07-2019  09:30    <DIR>          ..\n",
      "05-07-2019  10:57    <DIR>          .anaconda\n",
      "05-07-2019  16:59             1,989 .bash_history\n",
      "11-07-2019  09:31    <DIR>          .conda\n",
      "11-07-2019  09:14                43 .condarc\n",
      "05-07-2019  09:17               208 .gitconfig\n",
      "11-07-2019  09:16    <DIR>          .ipynb_checkpoints\n",
      "05-07-2019  11:35    <DIR>          .ipython\n",
      "06-07-2019  09:07    <DIR>          .jupyter\n",
      "10-07-2019  17:19            62,251 05-july-2019.ipynb\n",
      "11-07-2019  09:28             4,039 11-07-2019.ipynb\n",
      "24-06-2019  14:21    <DIR>          3D Objects\n",
      "05-07-2019  10:45    <DIR>          Anaconda3\n",
      "24-06-2019  14:21    <DIR>          Contacts\n",
      "10-07-2019  09:11    <DIR>          Desktop\n",
      "08-07-2019  12:11    <DIR>          Documents\n",
      "10-07-2019  09:11    <DIR>          Downloads\n",
      "24-06-2019  14:21    <DIR>          Favorites\n",
      "11-07-2019  09:30               150 file1.txt\n",
      "24-06-2019  14:21    <DIR>          Links\n",
      "24-06-2019  14:21    <DIR>          Music\n",
      "11-07-2019  09:23    <DIR>          OneDrive\n",
      "24-06-2019  14:23    <DIR>          Pictures\n",
      "24-06-2019  14:21    <DIR>          Saved Games\n",
      "24-06-2019  14:23    <DIR>          Searches\n",
      "01-07-2019  15:38    <DIR>          Videos\n",
      "               6 File(s)         68,680 bytes\n",
      "              21 Dir(s)  389,270,380,544 bytes free\n"
     ]
    }
   ],
   "source": [
    "ls"
   ]
  },
  {
   "cell_type": "code",
   "execution_count": 4,
   "metadata": {},
   "outputs": [
    {
     "data": {
      "text/plain": [
       "'C:\\\\Users\\\\sys59'"
      ]
     },
     "execution_count": 4,
     "metadata": {},
     "output_type": "execute_result"
    }
   ],
   "source": [
    "pwd"
   ]
  },
  {
   "cell_type": "code",
   "execution_count": 9,
   "metadata": {},
   "outputs": [
    {
     "name": "stdout",
     "output_type": "stream",
     "text": [
      "File is creted and data is written\n"
     ]
    }
   ],
   "source": [
    "def createfile(filename):\n",
    "    f = open(filename,'w')\n",
    "    f.write(\"testing....\\n\")\n",
    "    print(\"File is creted and data is written\")\n",
    "    return\n",
    "createfile('file1.txt')"
   ]
  },
  {
   "cell_type": "code",
   "execution_count": 8,
   "metadata": {},
   "outputs": [
    {
     "name": "stdout",
     "output_type": "stream",
     "text": [
      "File created and Successfully data written\n"
     ]
    }
   ],
   "source": [
    "def appendData(filename):\n",
    "    f = open(filename,'a')\n",
    "    for i in range(10):\n",
    "        f.write(\"This is %d Line\\n\" % i)\n",
    "    print(\"File created and Successfully data written\")\n",
    "    return\n",
    "appendData('file2.txt')"
   ]
  },
  {
   "cell_type": "code",
   "execution_count": 11,
   "metadata": {},
   "outputs": [
    {
     "name": "stdout",
     "output_type": "stream",
     "text": [
      "file created and successfully data written\n"
     ]
    }
   ],
   "source": [
    "def appenddata(filename):\n",
    "    f = open(filename,'a')\n",
    "    f.write(\"new line 1\\n\")\n",
    "    f.write(\"new line 2\\n\")\n",
    "    print(\"file created and successfully data written\")\n",
    "    return\n",
    "appenddata('file2.txt')\n"
   ]
  },
  {
   "cell_type": "code",
   "execution_count": 12,
   "metadata": {},
   "outputs": [
    {
     "name": "stdout",
     "output_type": "stream",
     "text": [
      "This is 0 Line\n",
      "This is 1 Line\n",
      "This is 2 Line\n",
      "This is 3 Line\n",
      "This is 4 Line\n",
      "This is 5 Line\n",
      "This is 6 Line\n",
      "This is 7 Line\n",
      "This is 8 Line\n",
      "This is 9 Line\n",
      "This is 0 Line\n",
      "This is 1 Line\n",
      "This is 2 Line\n",
      "This is 3 Line\n",
      "This is 4 Line\n",
      "This is 5 Line\n",
      "This is 6 Line\n",
      "This is 7 Line\n",
      "This is 8 Line\n",
      "This is 9 Line\n",
      "new line 1\n",
      "new line 2\n",
      "\n"
     ]
    }
   ],
   "source": [
    "# Function to read a file\n",
    "def readfiledata(filename):\n",
    "    f = open(filename,'r')\n",
    "    if f.mode == 'r':\n",
    "        x = f.read()\n",
    "        print(x)\n",
    "    f.close()\n",
    "    return\n",
    "readfiledata('file2.txt')"
   ]
  },
  {
   "cell_type": "code",
   "execution_count": 6,
   "metadata": {},
   "outputs": [
    {
     "name": "stdout",
     "output_type": "stream",
     "text": [
      "Enter the file name data.txt\n",
      " enter the mode of the file r\n",
      "data to the filedata to the file\n"
     ]
    }
   ],
   "source": [
    "# Function to read the file\n",
    "def fileOperations(filename,mode):\n",
    "    with open(filename,mode) as f:\n",
    "        if f.mode == 'r':\n",
    "            data = f.read()\n",
    "            print(data)\n",
    "        elif f.mode == 'a':\n",
    "            f.write(\"data to the file\")\n",
    "            print('The data is successfully written')\n",
    "    f.close()\n",
    "    return\n",
    "filename = input('Enter the file name ')\n",
    "mode = input(' enter the mode of the file ')\n",
    "fileOperations(filename,mode)"
   ]
  },
  {
   "cell_type": "code",
   "execution_count": 5,
   "metadata": {},
   "outputs": [
    {
     "name": "stdout",
     "output_type": "stream",
     "text": [
      "Enter the file name data.txt\n",
      " enter the mode of the file a\n",
      "The data is successfully written\n"
     ]
    }
   ],
   "source": [
    "# Function to read the file\n",
    "def fileOperations(filename,mode):\n",
    "    with open(filename,mode) as f:\n",
    "        if f.mode == 'r':\n",
    "            data = f.read()\n",
    "            print(data)\n",
    "        elif f.mode == 'a':\n",
    "            f.write(\"data to the file\")\n",
    "            print('The data is successfully written')\n",
    "    f.close()\n",
    "    return\n",
    "filename = input('Enter the file name ')\n",
    "mode = input(' enter the mode of the file ')\n",
    "fileOperations(filename,mode)"
   ]
  },
  {
   "cell_type": "code",
   "execution_count": 3,
   "metadata": {},
   "outputs": [
    {
     "name": "stdout",
     "output_type": "stream",
     "text": [
      "Enter the file name : file2.txt\n",
      "Enter the word : This\n"
     ]
    },
    {
     "data": {
      "text/plain": [
       "20"
      ]
     },
     "execution_count": 3,
     "metadata": {},
     "output_type": "execute_result"
    }
   ],
   "source": [
    "# Data Analysis\n",
    "# Word Count Program\n",
    "def wordCount(filename,word):\n",
    "    with open(filename,'r') as f:\n",
    "        if f.mode == 'r':\n",
    "            x = f.read()\n",
    "            li = x.split()\n",
    "    cnt = li.count(word)        \n",
    "    return cnt\n",
    "filename = input('Enter the file name : ')\n",
    "word = input(\"Enter the word : \")\n",
    "wordCount(filename,word)"
   ]
  },
  {
   "cell_type": "code",
   "execution_count": 10,
   "metadata": {},
   "outputs": [
    {
     "name": "stdout",
     "output_type": "stream",
     "text": [
      "enter the filename : file2.txt\n"
     ]
    },
    {
     "data": {
      "text/plain": [
       "322"
      ]
     },
     "execution_count": 10,
     "metadata": {},
     "output_type": "execute_result"
    }
   ],
   "source": [
    "# character count from the given file\n",
    "def charcount(filename):\n",
    "    with open(filename,'r') as f:\n",
    "        if f.mode == 'r':\n",
    "            x = f.read()\n",
    "            li = list(x)\n",
    "    return len(li)\n",
    "filename = input(\"enter the filename : \")\n",
    "charcount(filename)"
   ]
  },
  {
   "cell_type": "code",
   "execution_count": 11,
   "metadata": {},
   "outputs": [
    {
     "name": "stdout",
     "output_type": "stream",
     "text": [
      "Enter the filename : file2.txt\n"
     ]
    },
    {
     "data": {
      "text/plain": [
       "23"
      ]
     },
     "execution_count": 11,
     "metadata": {},
     "output_type": "execute_result"
    }
   ],
   "source": [
    "# Function to find the no of lines in the input fie\n",
    "# input -- File name(file2.txt)\n",
    "# Output -- no of lines(12)\n",
    "def countoflines(filename):\n",
    "    with open(filename,'r') as f:\n",
    "        if f.mode == 'r':\n",
    "            x = f.read()\n",
    "            li = x.split(\"\\n\")\n",
    "    return len(li)\n",
    "filename = input('Enter the filename : ')\n",
    "countoflines(filename)"
   ]
  },
  {
   "cell_type": "code",
   "execution_count": 14,
   "metadata": {},
   "outputs": [
    {
     "name": "stdout",
     "output_type": "stream",
     "text": [
      "Enter the filename : file2.txt\n"
     ]
    },
    {
     "data": {
      "text/plain": [
       "'upper case = 40 , lower case = 174'"
      ]
     },
     "execution_count": 14,
     "metadata": {},
     "output_type": "execute_result"
    }
   ],
   "source": [
    "# function to print upper and lower characters\n",
    "def casecount(filename):\n",
    "    cntupper=0\n",
    "    cntlower=0\n",
    "    with open(filename,'r') as f:\n",
    "        if f.mode == 'r':\n",
    "            x = f.read()\n",
    "            li = list(x)\n",
    "    for i in li:\n",
    "        if i.isupper():\n",
    "            cntupper += 1\n",
    "        elif i.islower():\n",
    "            cntlower += 1\n",
    "    output = 'upper case = {0} , lower case = {1}'.format(cntupper,cntlower)\n",
    "    return output\n",
    "filename = input('Enter the filename : ')\n",
    "casecount(filename)     "
   ]
  },
  {
   "cell_type": "markdown",
   "metadata": {},
   "source": [
    "### math,random,os\n",
    "- os package it contains the certain methods which work with os"
   ]
  },
  {
   "cell_type": "code",
   "execution_count": 15,
   "metadata": {},
   "outputs": [
    {
     "name": "stdout",
     "output_type": "stream",
     "text": [
      " Volume in drive C has no label.\n",
      " Volume Serial Number is 9457-6C5F\n",
      "\n",
      " Directory of C:\\Users\\sys59\n",
      "\n",
      "11-07-2019  12:24    <DIR>          .\n",
      "11-07-2019  12:24    <DIR>          ..\n",
      "05-07-2019  10:57    <DIR>          .anaconda\n",
      "05-07-2019  16:59             1,989 .bash_history\n",
      "11-07-2019  12:25    <DIR>          .conda\n",
      "11-07-2019  09:14                43 .condarc\n",
      "05-07-2019  09:17               208 .gitconfig\n",
      "11-07-2019  09:16    <DIR>          .ipynb_checkpoints\n",
      "05-07-2019  11:35    <DIR>          .ipython\n",
      "06-07-2019  09:07    <DIR>          .jupyter\n",
      "10-07-2019  17:19            62,251 05-july-2019.ipynb\n",
      "11-07-2019  12:24            12,372 11-07-2019.ipynb\n",
      "24-06-2019  14:21    <DIR>          3D Objects\n",
      "05-07-2019  10:45    <DIR>          Anaconda3\n",
      "24-06-2019  14:21    <DIR>          Contacts\n",
      "11-07-2019  10:28                32 data.txt\n",
      "11-07-2019  12:15    <DIR>          Desktop\n",
      "08-07-2019  12:11    <DIR>          Documents\n",
      "11-07-2019  12:15    <DIR>          Downloads\n",
      "24-06-2019  14:21    <DIR>          Favorites\n",
      "11-07-2019  10:04                13 file1.txt\n",
      "11-07-2019  10:09               344 file2.txt\n",
      "24-06-2019  14:21    <DIR>          Links\n",
      "24-06-2019  14:21    <DIR>          Music\n",
      "11-07-2019  09:23    <DIR>          OneDrive\n",
      "24-06-2019  14:23    <DIR>          Pictures\n",
      "24-06-2019  14:21    <DIR>          Saved Games\n",
      "24-06-2019  14:23    <DIR>          Searches\n",
      "01-07-2019  15:38    <DIR>          Videos\n",
      "               8 File(s)         77,252 bytes\n",
      "              21 Dir(s)  389,286,842,368 bytes free\n"
     ]
    }
   ],
   "source": [
    "ls"
   ]
  },
  {
   "cell_type": "code",
   "execution_count": 16,
   "metadata": {},
   "outputs": [
    {
     "name": "stdout",
     "output_type": "stream",
     "text": [
      "C:\\Users\\sys59\\desktop\\pythonprogram\\git\n"
     ]
    }
   ],
   "source": [
    "cd desktop/pythonprogram/git"
   ]
  },
  {
   "cell_type": "code",
   "execution_count": 17,
   "metadata": {},
   "outputs": [
    {
     "name": "stdout",
     "output_type": "stream",
     "text": [
      " Volume in drive C has no label.\n",
      " Volume Serial Number is 9457-6C5F\n",
      "\n",
      " Directory of C:\\Users\\sys59\\desktop\\pythonprogram\\git\n",
      "\n",
      "05-07-2019  15:51    <DIR>          .\n",
      "05-07-2019  15:51    <DIR>          ..\n",
      "05-07-2019  15:49            10,537 05-july-2019.ipynb\n",
      "05-07-2019  09:39    <DIR>          AOT\n",
      "05-07-2019  09:20                38 data.txt\n",
      "               2 File(s)         10,575 bytes\n",
      "               3 Dir(s)  389,275,697,152 bytes free\n"
     ]
    }
   ],
   "source": [
    "ls"
   ]
  },
  {
   "cell_type": "code",
   "execution_count": 18,
   "metadata": {},
   "outputs": [
    {
     "name": "stdout",
     "output_type": "stream",
     "text": [
      "C:\\Users\\sys59\\desktop\\pythonprogram\n"
     ]
    }
   ],
   "source": [
    "cd .."
   ]
  },
  {
   "cell_type": "code",
   "execution_count": 23,
   "metadata": {},
   "outputs": [
    {
     "data": {
      "text/plain": [
       "['.git', '05-july-2019.ipynb', 'AOT', 'data.txt']"
      ]
     },
     "execution_count": 23,
     "metadata": {},
     "output_type": "execute_result"
    }
   ],
   "source": [
    "import os\n",
    "os.listdir('Git/')"
   ]
  },
  {
   "cell_type": "markdown",
   "metadata": {},
   "source": [
    "- Older version python - os.listdr()\n",
    "- Newer version python - os.scandir() and pathlib.path()"
   ]
  },
  {
   "cell_type": "code",
   "execution_count": 24,
   "metadata": {},
   "outputs": [
    {
     "name": "stdout",
     "output_type": "stream",
     "text": [
      "<DirEntry '.git'>\n",
      "<DirEntry '05-july-2019.ipynb'>\n",
      "<DirEntry 'AOT'>\n",
      "<DirEntry 'data.txt'>\n"
     ]
    }
   ],
   "source": [
    "li = os.scandir('Git/')\n",
    "for i in li:\n",
    "    print(i)"
   ]
  },
  {
   "cell_type": "code",
   "execution_count": 29,
   "metadata": {},
   "outputs": [
    {
     "name": "stdout",
     "output_type": "stream",
     "text": [
      ".git\n",
      "05-july-2019.ipynb\n",
      "AOT\n",
      "data.txt\n"
     ]
    }
   ],
   "source": [
    "from pathlib import Path\n",
    "li = Path('Git/')\n",
    "for i in li.iterdir():\n",
    "    print(i.name)"
   ]
  },
  {
   "cell_type": "markdown",
   "metadata": {},
   "source": [
    "### Listing all files in a directory"
   ]
  },
  {
   "cell_type": "code",
   "execution_count": 37,
   "metadata": {},
   "outputs": [
    {
     "name": "stdout",
     "output_type": "stream",
     "text": [
      "05-july-2019.ipynb\n",
      "data.txt\n"
     ]
    }
   ],
   "source": [
    "import os\n",
    "dirPath = \"Git/\" \n",
    "for i in os.listdir(dirPath):\n",
    "    if os.path.isfile(os.path.join(dirPath,i)):\n",
    "        print(i)\n",
    "    "
   ]
  },
  {
   "cell_type": "code",
   "execution_count": 38,
   "metadata": {},
   "outputs": [
    {
     "name": "stdout",
     "output_type": "stream",
     "text": [
      "05-july-2019.ipynb\n",
      "data.txt\n"
     ]
    }
   ],
   "source": [
    "dirPath = 'Git/'\n",
    "with os.scandir(dirPath) as f:\n",
    "    for i in f:\n",
    "        if i.is_file():\n",
    "            print(i.name)"
   ]
  },
  {
   "cell_type": "markdown",
   "metadata": {},
   "source": [
    "### Listing Subdirectories"
   ]
  },
  {
   "cell_type": "code",
   "execution_count": 50,
   "metadata": {},
   "outputs": [
    {
     "name": "stdout",
     "output_type": "stream",
     "text": [
      ".git\n",
      "AOT\n"
     ]
    }
   ],
   "source": [
    "dirPath = 'Git/'\n",
    "for i in os.listdir(dirPath):\n",
    "    if os.path.isdir(os.path.join(dirPath,i)):\n",
    "        print(i)"
   ]
  },
  {
   "cell_type": "code",
   "execution_count": 42,
   "metadata": {},
   "outputs": [
    {
     "name": "stdout",
     "output_type": "stream",
     "text": [
      ".git\n",
      "AOT\n"
     ]
    }
   ],
   "source": [
    "from pathlib import Path\n",
    "dirPath = Path('Git/')\n",
    "for i in dirPath.iterdir():\n",
    "    if i.is_dir():\n",
    "        print(i.name)"
   ]
  },
  {
   "cell_type": "code",
   "execution_count": 43,
   "metadata": {},
   "outputs": [
    {
     "name": "stdout",
     "output_type": "stream",
     "text": [
      ".git\n",
      "AOT\n"
     ]
    }
   ],
   "source": [
    "dirPath = 'Git/'\n",
    "with os.scandir(dirPath) as f:\n",
    "    for i in f:\n",
    "        if i.is_dir():\n",
    "            print(i.name)"
   ]
  },
  {
   "cell_type": "markdown",
   "metadata": {},
   "source": [
    "# Creating a Single Directory"
   ]
  },
  {
   "cell_type": "code",
   "execution_count": 45,
   "metadata": {},
   "outputs": [],
   "source": [
    "import os\n",
    "os.mkdir('SingleDirectory')"
   ]
  },
  {
   "cell_type": "code",
   "execution_count": 46,
   "metadata": {},
   "outputs": [],
   "source": [
    "import pathlib\n",
    "p = pathlib.Path('TestFolder')\n",
    "p.mkdir()"
   ]
  },
  {
   "cell_type": "code",
   "execution_count": 47,
   "metadata": {},
   "outputs": [
    {
     "name": "stdout",
     "output_type": "stream",
     "text": [
      " Volume in drive C has no label.\n",
      " Volume Serial Number is 9457-6C5F\n",
      "\n",
      " Directory of C:\\Users\\sys59\\desktop\\pythonprogram\n",
      "\n",
      "11-07-2019  14:45    <DIR>          .\n",
      "11-07-2019  14:45    <DIR>          ..\n",
      "05-07-2019  15:51    <DIR>          Git\n",
      "11-07-2019  14:44    <DIR>          SingleDirectory\n",
      "11-07-2019  14:45    <DIR>          TestFolder\n",
      "               0 File(s)              0 bytes\n",
      "               5 Dir(s)  388,873,711,616 bytes free\n"
     ]
    }
   ],
   "source": [
    "ls"
   ]
  },
  {
   "cell_type": "markdown",
   "metadata": {},
   "source": [
    "# Filename Pattern Matching\n"
   ]
  },
  {
   "cell_type": "code",
   "execution_count": 57,
   "metadata": {},
   "outputs": [
    {
     "data": {
      "text/plain": [
       "'C:\\\\'"
      ]
     },
     "execution_count": 57,
     "metadata": {},
     "output_type": "execute_result"
    }
   ],
   "source": [
    "pwd"
   ]
  },
  {
   "cell_type": "code",
   "execution_count": 58,
   "metadata": {},
   "outputs": [
    {
     "name": "stdout",
     "output_type": "stream",
     "text": [
      "C:\\Users\n"
     ]
    }
   ],
   "source": [
    "cd Users"
   ]
  },
  {
   "cell_type": "code",
   "execution_count": 59,
   "metadata": {},
   "outputs": [
    {
     "name": "stdout",
     "output_type": "stream",
     "text": [
      "C:\\Users\\sys59\n"
     ]
    }
   ],
   "source": [
    "cd sys59"
   ]
  },
  {
   "cell_type": "code",
   "execution_count": 60,
   "metadata": {},
   "outputs": [
    {
     "name": "stdout",
     "output_type": "stream",
     "text": [
      "C:\\Users\\sys59\\desktop\n"
     ]
    }
   ],
   "source": [
    "cd desktop"
   ]
  },
  {
   "cell_type": "code",
   "execution_count": 61,
   "metadata": {},
   "outputs": [
    {
     "name": "stdout",
     "output_type": "stream",
     "text": [
      "[WinError 2] The system cannot find the file specified: 'pythonprogramming'\n",
      "C:\\Users\\sys59\\desktop\n"
     ]
    }
   ],
   "source": [
    "cd pythonprogramming"
   ]
  },
  {
   "cell_type": "code",
   "execution_count": 62,
   "metadata": {},
   "outputs": [
    {
     "name": "stdout",
     "output_type": "stream",
     "text": [
      "C:\\Users\\sys59\\desktop\\pythonprogram\n"
     ]
    }
   ],
   "source": [
    "cd pythonprogram"
   ]
  },
  {
   "cell_type": "code",
   "execution_count": 63,
   "metadata": {},
   "outputs": [
    {
     "name": "stdout",
     "output_type": "stream",
     "text": [
      "C:\\Users\\sys59\\desktop\\pythonprogram\\Git\n"
     ]
    }
   ],
   "source": [
    "cd Git"
   ]
  },
  {
   "cell_type": "code",
   "execution_count": 68,
   "metadata": {},
   "outputs": [
    {
     "name": "stdout",
     "output_type": "stream",
     "text": [
      "C:\\Users\\sys59\\desktop\\pythonprogram\n"
     ]
    }
   ],
   "source": [
    "cd .."
   ]
  },
  {
   "cell_type": "code",
   "execution_count": 71,
   "metadata": {},
   "outputs": [
    {
     "name": "stdout",
     "output_type": "stream",
     "text": [
      "05-july-2019.ipynb\n"
     ]
    }
   ],
   "source": [
    "import os \n",
    "dirPath = 'Git/'\n",
    "for f_name in os.listdir(dirPath):\n",
    "    if f_name.endswith('.ipynb'):\n",
    "        print(f_name)"
   ]
  },
  {
   "cell_type": "markdown",
   "metadata": {},
   "source": [
    "### Regular Expression\n",
    "- Used to specific patternmatching\n",
    "- symbolic rotations of pattern \n",
    "          - Patterns(RE) represents set of values\n"
   ]
  },
  {
   "cell_type": "code",
   "execution_count": null,
   "metadata": {},
   "outputs": [],
   "source": []
  }
 ],
 "metadata": {
  "kernelspec": {
   "display_name": "Python 3",
   "language": "python",
   "name": "python3"
  },
  "language_info": {
   "codemirror_mode": {
    "name": "ipython",
    "version": 3
   },
   "file_extension": ".py",
   "mimetype": "text/x-python",
   "name": "python",
   "nbconvert_exporter": "python",
   "pygments_lexer": "ipython3",
   "version": "3.7.3"
  }
 },
 "nbformat": 4,
 "nbformat_minor": 2
}
